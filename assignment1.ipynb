{
 "cells": [
  {
   "cell_type": "code",
   "execution_count": 1,
   "id": "29d9b93c-f065-4d5d-9665-3096afb6c762",
   "metadata": {},
   "outputs": [
    {
     "name": "stdout",
     "output_type": "stream",
     "text": [
      "Vansh <class 'str'>\n",
      "[78, 53, 33.23, 'sudh', True] <class 'list'>\n",
      "76.98 <class 'float'>\n",
      "(45, 56) <class 'tuple'>\n"
     ]
    }
   ],
   "source": [
    "# Q1. Create one variable containing following type of data:\n",
    "# (i) string\n",
    "# (ii) list\n",
    "# (iii) float\n",
    "# (iv) tuple\n",
    "\n",
    "a = \"Vansh\"\n",
    "print(a, type(a))\n",
    "a = [78,53,33.23,\"sudh\", True]\n",
    "print(a, type(a))\n",
    "a = 76.98\n",
    "print(a, type(a))\n",
    "a = (45,56)\n",
    "print(a, type(a))"
   ]
  },
  {
   "cell_type": "code",
   "execution_count": 2,
   "id": "6146693a-6b75-4ee9-b4ea-969814224f6f",
   "metadata": {},
   "outputs": [
    {
     "name": "stdout",
     "output_type": "stream",
     "text": [
      "<class 'str'>\n",
      "<class 'str'>\n",
      "<class 'list'>\n",
      "<class 'float'>\n"
     ]
    }
   ],
   "source": [
    "# Q2. Given are some following variables containing data:\n",
    "# (i) var1 = ‘ ‘\n",
    "# (ii) var2 = ‘[ DS , ML , Python]’\n",
    "# (iii) var3 = [ ‘DS’ , ’ML’ , ‘Python’ ]\n",
    "# (iv) var4 = 1.\n",
    "# What will be the data type of the above given variable.\n",
    "\n",
    "var1 = ' '\n",
    "print(type(var1))\n",
    "\n",
    "var2 = '[ DS , ML , Python]'\n",
    "print(type(var2))\n",
    "\n",
    "var3 = [ 'DS' , 'ML' , 'Python' ]\n",
    "print(type(var3))\n",
    "\n",
    "var4 = 1.\n",
    "print(type(var4))"
   ]
  },
  {
   "cell_type": "code",
   "execution_count": 3,
   "id": "42166d52-7cb8-4a15-a0f0-ba3bb069cadc",
   "metadata": {},
   "outputs": [
    {
     "name": "stdout",
     "output_type": "stream",
     "text": [
      "2.0\n",
      "1\n",
      "4\n",
      "8\n"
     ]
    }
   ],
   "source": [
    "# Q3. Explain the use of the following operators using an example:\n",
    "# (i) /\n",
    "# (ii) %\n",
    "# (iii) //\n",
    "# (iv) **\n",
    "\n",
    "# / is use for division(float)\n",
    "print(8/4)\n",
    "\n",
    "# % is use for finding remmainder\n",
    "print(11%2)\n",
    "\n",
    "# // is use for division(int)\n",
    "print(8//2)\n",
    "\n",
    "# ** is use for mautiplication of a number by itself\n",
    "print(2**3)"
   ]
  },
  {
   "cell_type": "code",
   "execution_count": 4,
   "id": "c372f1f0-e592-4393-aa6c-96767a6b0e6d",
   "metadata": {},
   "outputs": [
    {
     "name": "stdout",
     "output_type": "stream",
     "text": [
      "2\n",
      "3\n",
      "4\n",
      "1\n",
      "6\n",
      "vansh\n",
      "pwskills\n",
      "44.34\n",
      "True\n",
      "False\n"
     ]
    }
   ],
   "source": [
    "# Create a list of length 10 of your choice containing multiple types of data. Using for loop print the\n",
    "# element and its data type.\n",
    "\n",
    "l = [2,3,4,1,6,\"vansh\", \"pwskills\",44.34, True, False]\n",
    "for i in l:\n",
    "    print(i)"
   ]
  },
  {
   "cell_type": "code",
   "execution_count": 5,
   "id": "1b15bf81-b853-4e3e-b564-27b356e3c7dc",
   "metadata": {},
   "outputs": [
    {
     "name": "stdout",
     "output_type": "stream",
     "text": [
      "number is purely divisible\n",
      "8 is devided by 3.0 times\n"
     ]
    }
   ],
   "source": [
    "# Using a while loop, verify if the number A is purely divisible by number B and if so then how many\n",
    "# times it can be divisible.\n",
    "\n",
    "a= 24\n",
    "n = 8\n",
    "while(n<a):\n",
    "    if(a%n == 0):\n",
    "        print(\"number is purely divisible\")\n",
    "    else:\n",
    "        print(\"number is not purely divisible\")\n",
    "    print(n, \"is devided by\", a/n, \"times\")\n",
    "    break"
   ]
  },
  {
   "cell_type": "code",
   "execution_count": 6,
   "id": "30f57583-bdd6-4d3b-a921-2170192ea696",
   "metadata": {},
   "outputs": [
    {
     "name": "stdout",
     "output_type": "stream",
     "text": [
      "25\n",
      "1 is not divisible by 3\n",
      "2 is not divisible by 3\n",
      "3 is divisible by 3\n",
      "4 is not divisible by 3\n",
      "5 is not divisible by 3\n",
      "6 is divisible by 3\n",
      "7 is not divisible by 3\n",
      "8 is not divisible by 3\n",
      "9 is divisible by 3\n",
      "10 is not divisible by 3\n",
      "11 is not divisible by 3\n",
      "12 is divisible by 3\n",
      "13 is not divisible by 3\n",
      "14 is not divisible by 3\n",
      "15 is divisible by 3\n",
      "16 is not divisible by 3\n",
      "17 is not divisible by 3\n",
      "18 is divisible by 3\n",
      "19 is not divisible by 3\n",
      "20 is not divisible by 3\n",
      "21 is divisible by 3\n",
      "22 is not divisible by 3\n",
      "23 is not divisible by 3\n",
      "24 is divisible by 3\n",
      "25 is not divisible by 3\n"
     ]
    }
   ],
   "source": [
    "# Create a list containing 25 int type data. Using for loop and if-else condition print if the element is\n",
    "# divisible by 3 or not.\n",
    "\n",
    "a = [1,2,3,4,5,6,7,8,9,10,11,12,13,14,15,16,17,18,19,20,21,22,23,24,25]\n",
    "print(len(a))\n",
    "for i in a:\n",
    "    if i%3==0:\n",
    "        print(i, \"is divisible by 3\")\n",
    "    else:\n",
    "        print(i, \"is not divisible by 3\")\n",
    "    "
   ]
  },
  {
   "cell_type": "code",
   "execution_count": 7,
   "id": "7fdfeea5-76cd-4e63-80ba-d394b53d45ff",
   "metadata": {},
   "outputs": [
    {
     "name": "stdout",
     "output_type": "stream",
     "text": [
      "vansh\n",
      "[2, 3, 4, 1, 6, 'vansh', 'pwskills', 44.34, True, False]\n"
     ]
    },
    {
     "ename": "TypeError",
     "evalue": "'str' object does not support item assignment",
     "output_type": "error",
     "traceback": [
      "\u001b[0;31m---------------------------------------------------------------------------\u001b[0m",
      "\u001b[0;31mTypeError\u001b[0m                                 Traceback (most recent call last)",
      "Cell \u001b[0;32mIn[7], line 9\u001b[0m\n\u001b[1;32m      6\u001b[0m \u001b[38;5;28mprint\u001b[39m(str1)\n\u001b[1;32m      7\u001b[0m \u001b[38;5;28mprint\u001b[39m(list1)\n\u001b[0;32m----> 9\u001b[0m \u001b[43mstr1\u001b[49m\u001b[43m[\u001b[49m\u001b[38;5;241;43m1\u001b[39;49m\u001b[43m]\u001b[49m \u001b[38;5;241m=\u001b[39m \u001b[38;5;124m\"\u001b[39m\u001b[38;5;124me\u001b[39m\u001b[38;5;124m\"\u001b[39m\n\u001b[1;32m     10\u001b[0m \u001b[38;5;28mprint\u001b[39m(str1)\n\u001b[1;32m     12\u001b[0m list1[\u001b[38;5;241m1\u001b[39m] \u001b[38;5;241m=\u001b[39m \u001b[38;5;124m\"\u001b[39m\u001b[38;5;124mRam\u001b[39m\u001b[38;5;124m\"\u001b[39m\n",
      "\u001b[0;31mTypeError\u001b[0m: 'str' object does not support item assignment"
     ]
    }
   ],
   "source": [
    "# What do you understand about mutable and immutable data types? Give examples for both showing\n",
    "# this property.\n",
    "\n",
    "str1 = \"vansh\"\n",
    "list1 = [2,3,4,1,6,\"vansh\", \"pwskills\",44.34, True, False]\n",
    "print(str1)\n",
    "print(list1)\n",
    "\n",
    "str1[1] = \"e\"\n",
    "print(str1)\n",
    "\n",
    "list1[1] = \"Ram\"\n",
    "print(list1)\n"
   ]
  },
  {
   "cell_type": "code",
   "execution_count": null,
   "id": "24ff99de-e567-4457-bb7b-81cc029fb8ee",
   "metadata": {},
   "outputs": [],
   "source": []
  }
 ],
 "metadata": {
  "kernelspec": {
   "display_name": "Python 3 (ipykernel)",
   "language": "python",
   "name": "python3"
  },
  "language_info": {
   "codemirror_mode": {
    "name": "ipython",
    "version": 3
   },
   "file_extension": ".py",
   "mimetype": "text/x-python",
   "name": "python",
   "nbconvert_exporter": "python",
   "pygments_lexer": "ipython3",
   "version": "3.10.8"
  }
 },
 "nbformat": 4,
 "nbformat_minor": 5
}
